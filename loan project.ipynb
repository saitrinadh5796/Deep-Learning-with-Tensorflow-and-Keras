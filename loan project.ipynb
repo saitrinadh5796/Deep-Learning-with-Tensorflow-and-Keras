{
 "cells": [
  {
   "cell_type": "code",
   "execution_count": 1,
   "metadata": {},
   "outputs": [],
   "source": [
    "import pandas as pd\n",
    "import numpy as np"
   ]
  },
  {
   "cell_type": "code",
   "execution_count": 2,
   "metadata": {},
   "outputs": [],
   "source": [
    "df_loan = pd.read_csv('loan_data.csv')"
   ]
  },
  {
   "cell_type": "code",
   "execution_count": 3,
   "metadata": {},
   "outputs": [
    {
     "data": {
      "text/html": [
       "<div>\n",
       "<style scoped>\n",
       "    .dataframe tbody tr th:only-of-type {\n",
       "        vertical-align: middle;\n",
       "    }\n",
       "\n",
       "    .dataframe tbody tr th {\n",
       "        vertical-align: top;\n",
       "    }\n",
       "\n",
       "    .dataframe thead th {\n",
       "        text-align: right;\n",
       "    }\n",
       "</style>\n",
       "<table border=\"1\" class=\"dataframe\">\n",
       "  <thead>\n",
       "    <tr style=\"text-align: right;\">\n",
       "      <th></th>\n",
       "      <th>credit.policy</th>\n",
       "      <th>purpose</th>\n",
       "      <th>int.rate</th>\n",
       "      <th>installment</th>\n",
       "      <th>log.annual.inc</th>\n",
       "      <th>dti</th>\n",
       "      <th>fico</th>\n",
       "      <th>days.with.cr.line</th>\n",
       "      <th>revol.bal</th>\n",
       "      <th>revol.util</th>\n",
       "      <th>inq.last.6mths</th>\n",
       "      <th>delinq.2yrs</th>\n",
       "      <th>pub.rec</th>\n",
       "      <th>not.fully.paid</th>\n",
       "    </tr>\n",
       "  </thead>\n",
       "  <tbody>\n",
       "    <tr>\n",
       "      <th>0</th>\n",
       "      <td>1</td>\n",
       "      <td>debt_consolidation</td>\n",
       "      <td>0.1189</td>\n",
       "      <td>829.10</td>\n",
       "      <td>11.350407</td>\n",
       "      <td>19.48</td>\n",
       "      <td>737</td>\n",
       "      <td>5639.958333</td>\n",
       "      <td>28854</td>\n",
       "      <td>52.1</td>\n",
       "      <td>0</td>\n",
       "      <td>0</td>\n",
       "      <td>0</td>\n",
       "      <td>0</td>\n",
       "    </tr>\n",
       "    <tr>\n",
       "      <th>1</th>\n",
       "      <td>1</td>\n",
       "      <td>credit_card</td>\n",
       "      <td>0.1071</td>\n",
       "      <td>228.22</td>\n",
       "      <td>11.082143</td>\n",
       "      <td>14.29</td>\n",
       "      <td>707</td>\n",
       "      <td>2760.000000</td>\n",
       "      <td>33623</td>\n",
       "      <td>76.7</td>\n",
       "      <td>0</td>\n",
       "      <td>0</td>\n",
       "      <td>0</td>\n",
       "      <td>0</td>\n",
       "    </tr>\n",
       "    <tr>\n",
       "      <th>2</th>\n",
       "      <td>1</td>\n",
       "      <td>debt_consolidation</td>\n",
       "      <td>0.1357</td>\n",
       "      <td>366.86</td>\n",
       "      <td>10.373491</td>\n",
       "      <td>11.63</td>\n",
       "      <td>682</td>\n",
       "      <td>4710.000000</td>\n",
       "      <td>3511</td>\n",
       "      <td>25.6</td>\n",
       "      <td>1</td>\n",
       "      <td>0</td>\n",
       "      <td>0</td>\n",
       "      <td>0</td>\n",
       "    </tr>\n",
       "    <tr>\n",
       "      <th>3</th>\n",
       "      <td>1</td>\n",
       "      <td>debt_consolidation</td>\n",
       "      <td>0.1008</td>\n",
       "      <td>162.34</td>\n",
       "      <td>11.350407</td>\n",
       "      <td>8.10</td>\n",
       "      <td>712</td>\n",
       "      <td>2699.958333</td>\n",
       "      <td>33667</td>\n",
       "      <td>73.2</td>\n",
       "      <td>1</td>\n",
       "      <td>0</td>\n",
       "      <td>0</td>\n",
       "      <td>0</td>\n",
       "    </tr>\n",
       "    <tr>\n",
       "      <th>4</th>\n",
       "      <td>1</td>\n",
       "      <td>credit_card</td>\n",
       "      <td>0.1426</td>\n",
       "      <td>102.92</td>\n",
       "      <td>11.299732</td>\n",
       "      <td>14.97</td>\n",
       "      <td>667</td>\n",
       "      <td>4066.000000</td>\n",
       "      <td>4740</td>\n",
       "      <td>39.5</td>\n",
       "      <td>0</td>\n",
       "      <td>1</td>\n",
       "      <td>0</td>\n",
       "      <td>0</td>\n",
       "    </tr>\n",
       "  </tbody>\n",
       "</table>\n",
       "</div>"
      ],
      "text/plain": [
       "   credit.policy             purpose  int.rate  installment  log.annual.inc  \\\n",
       "0              1  debt_consolidation    0.1189       829.10       11.350407   \n",
       "1              1         credit_card    0.1071       228.22       11.082143   \n",
       "2              1  debt_consolidation    0.1357       366.86       10.373491   \n",
       "3              1  debt_consolidation    0.1008       162.34       11.350407   \n",
       "4              1         credit_card    0.1426       102.92       11.299732   \n",
       "\n",
       "     dti  fico  days.with.cr.line  revol.bal  revol.util  inq.last.6mths  \\\n",
       "0  19.48   737        5639.958333      28854        52.1               0   \n",
       "1  14.29   707        2760.000000      33623        76.7               0   \n",
       "2  11.63   682        4710.000000       3511        25.6               1   \n",
       "3   8.10   712        2699.958333      33667        73.2               1   \n",
       "4  14.97   667        4066.000000       4740        39.5               0   \n",
       "\n",
       "   delinq.2yrs  pub.rec  not.fully.paid  \n",
       "0            0        0               0  \n",
       "1            0        0               0  \n",
       "2            0        0               0  \n",
       "3            0        0               0  \n",
       "4            1        0               0  "
      ]
     },
     "execution_count": 3,
     "metadata": {},
     "output_type": "execute_result"
    }
   ],
   "source": [
    "df_loan.head()"
   ]
  },
  {
   "cell_type": "code",
   "execution_count": 4,
   "metadata": {},
   "outputs": [
    {
     "data": {
      "text/plain": [
       "(9578, 14)"
      ]
     },
     "execution_count": 4,
     "metadata": {},
     "output_type": "execute_result"
    }
   ],
   "source": [
    "df_loan.shape"
   ]
  },
  {
   "cell_type": "code",
   "execution_count": 5,
   "metadata": {},
   "outputs": [],
   "source": [
    "df_loan.rename(columns = {'credit.policy':'credit_policy'}, inplace=True)"
   ]
  },
  {
   "cell_type": "code",
   "execution_count": 6,
   "metadata": {},
   "outputs": [
    {
     "data": {
      "text/plain": [
       "array([1, 0])"
      ]
     },
     "execution_count": 6,
     "metadata": {},
     "output_type": "execute_result"
    }
   ],
   "source": [
    "df_loan.credit_policy.unique()"
   ]
  },
  {
   "cell_type": "code",
   "execution_count": 7,
   "metadata": {},
   "outputs": [
    {
     "data": {
      "text/plain": [
       "credit_policy        0\n",
       "purpose              0\n",
       "int.rate             0\n",
       "installment          0\n",
       "log.annual.inc       0\n",
       "dti                  0\n",
       "fico                 0\n",
       "days.with.cr.line    0\n",
       "revol.bal            0\n",
       "revol.util           0\n",
       "inq.last.6mths       0\n",
       "delinq.2yrs          0\n",
       "pub.rec              0\n",
       "not.fully.paid       0\n",
       "dtype: int64"
      ]
     },
     "execution_count": 7,
     "metadata": {},
     "output_type": "execute_result"
    }
   ],
   "source": [
    "df_loan.isna().sum()"
   ]
  },
  {
   "cell_type": "code",
   "execution_count": 8,
   "metadata": {},
   "outputs": [],
   "source": [
    "df_loan['purpose'].replace(['debt_consolidation', 'credit_card', 'all_other', 'home_improvement', 'small_business', 'educational', 'major_purchase'],[0, 1, 2, 3, 4, 5, 6], inplace=True)"
   ]
  },
  {
   "cell_type": "code",
   "execution_count": 9,
   "metadata": {},
   "outputs": [
    {
     "data": {
      "text/html": [
       "<div>\n",
       "<style scoped>\n",
       "    .dataframe tbody tr th:only-of-type {\n",
       "        vertical-align: middle;\n",
       "    }\n",
       "\n",
       "    .dataframe tbody tr th {\n",
       "        vertical-align: top;\n",
       "    }\n",
       "\n",
       "    .dataframe thead th {\n",
       "        text-align: right;\n",
       "    }\n",
       "</style>\n",
       "<table border=\"1\" class=\"dataframe\">\n",
       "  <thead>\n",
       "    <tr style=\"text-align: right;\">\n",
       "      <th></th>\n",
       "      <th>credit_policy</th>\n",
       "      <th>purpose</th>\n",
       "      <th>int.rate</th>\n",
       "      <th>installment</th>\n",
       "      <th>log.annual.inc</th>\n",
       "      <th>dti</th>\n",
       "      <th>fico</th>\n",
       "      <th>days.with.cr.line</th>\n",
       "      <th>revol.bal</th>\n",
       "      <th>revol.util</th>\n",
       "      <th>inq.last.6mths</th>\n",
       "      <th>delinq.2yrs</th>\n",
       "      <th>pub.rec</th>\n",
       "      <th>not.fully.paid</th>\n",
       "    </tr>\n",
       "  </thead>\n",
       "  <tbody>\n",
       "    <tr>\n",
       "      <th>0</th>\n",
       "      <td>1</td>\n",
       "      <td>0</td>\n",
       "      <td>0.1189</td>\n",
       "      <td>829.10</td>\n",
       "      <td>11.350407</td>\n",
       "      <td>19.48</td>\n",
       "      <td>737</td>\n",
       "      <td>5639.958333</td>\n",
       "      <td>28854</td>\n",
       "      <td>52.1</td>\n",
       "      <td>0</td>\n",
       "      <td>0</td>\n",
       "      <td>0</td>\n",
       "      <td>0</td>\n",
       "    </tr>\n",
       "    <tr>\n",
       "      <th>1</th>\n",
       "      <td>1</td>\n",
       "      <td>1</td>\n",
       "      <td>0.1071</td>\n",
       "      <td>228.22</td>\n",
       "      <td>11.082143</td>\n",
       "      <td>14.29</td>\n",
       "      <td>707</td>\n",
       "      <td>2760.000000</td>\n",
       "      <td>33623</td>\n",
       "      <td>76.7</td>\n",
       "      <td>0</td>\n",
       "      <td>0</td>\n",
       "      <td>0</td>\n",
       "      <td>0</td>\n",
       "    </tr>\n",
       "    <tr>\n",
       "      <th>2</th>\n",
       "      <td>1</td>\n",
       "      <td>0</td>\n",
       "      <td>0.1357</td>\n",
       "      <td>366.86</td>\n",
       "      <td>10.373491</td>\n",
       "      <td>11.63</td>\n",
       "      <td>682</td>\n",
       "      <td>4710.000000</td>\n",
       "      <td>3511</td>\n",
       "      <td>25.6</td>\n",
       "      <td>1</td>\n",
       "      <td>0</td>\n",
       "      <td>0</td>\n",
       "      <td>0</td>\n",
       "    </tr>\n",
       "    <tr>\n",
       "      <th>3</th>\n",
       "      <td>1</td>\n",
       "      <td>0</td>\n",
       "      <td>0.1008</td>\n",
       "      <td>162.34</td>\n",
       "      <td>11.350407</td>\n",
       "      <td>8.10</td>\n",
       "      <td>712</td>\n",
       "      <td>2699.958333</td>\n",
       "      <td>33667</td>\n",
       "      <td>73.2</td>\n",
       "      <td>1</td>\n",
       "      <td>0</td>\n",
       "      <td>0</td>\n",
       "      <td>0</td>\n",
       "    </tr>\n",
       "    <tr>\n",
       "      <th>4</th>\n",
       "      <td>1</td>\n",
       "      <td>1</td>\n",
       "      <td>0.1426</td>\n",
       "      <td>102.92</td>\n",
       "      <td>11.299732</td>\n",
       "      <td>14.97</td>\n",
       "      <td>667</td>\n",
       "      <td>4066.000000</td>\n",
       "      <td>4740</td>\n",
       "      <td>39.5</td>\n",
       "      <td>0</td>\n",
       "      <td>1</td>\n",
       "      <td>0</td>\n",
       "      <td>0</td>\n",
       "    </tr>\n",
       "    <tr>\n",
       "      <th>...</th>\n",
       "      <td>...</td>\n",
       "      <td>...</td>\n",
       "      <td>...</td>\n",
       "      <td>...</td>\n",
       "      <td>...</td>\n",
       "      <td>...</td>\n",
       "      <td>...</td>\n",
       "      <td>...</td>\n",
       "      <td>...</td>\n",
       "      <td>...</td>\n",
       "      <td>...</td>\n",
       "      <td>...</td>\n",
       "      <td>...</td>\n",
       "      <td>...</td>\n",
       "    </tr>\n",
       "    <tr>\n",
       "      <th>9573</th>\n",
       "      <td>0</td>\n",
       "      <td>2</td>\n",
       "      <td>0.1461</td>\n",
       "      <td>344.76</td>\n",
       "      <td>12.180755</td>\n",
       "      <td>10.39</td>\n",
       "      <td>672</td>\n",
       "      <td>10474.000000</td>\n",
       "      <td>215372</td>\n",
       "      <td>82.1</td>\n",
       "      <td>2</td>\n",
       "      <td>0</td>\n",
       "      <td>0</td>\n",
       "      <td>1</td>\n",
       "    </tr>\n",
       "    <tr>\n",
       "      <th>9574</th>\n",
       "      <td>0</td>\n",
       "      <td>2</td>\n",
       "      <td>0.1253</td>\n",
       "      <td>257.70</td>\n",
       "      <td>11.141862</td>\n",
       "      <td>0.21</td>\n",
       "      <td>722</td>\n",
       "      <td>4380.000000</td>\n",
       "      <td>184</td>\n",
       "      <td>1.1</td>\n",
       "      <td>5</td>\n",
       "      <td>0</td>\n",
       "      <td>0</td>\n",
       "      <td>1</td>\n",
       "    </tr>\n",
       "    <tr>\n",
       "      <th>9575</th>\n",
       "      <td>0</td>\n",
       "      <td>0</td>\n",
       "      <td>0.1071</td>\n",
       "      <td>97.81</td>\n",
       "      <td>10.596635</td>\n",
       "      <td>13.09</td>\n",
       "      <td>687</td>\n",
       "      <td>3450.041667</td>\n",
       "      <td>10036</td>\n",
       "      <td>82.9</td>\n",
       "      <td>8</td>\n",
       "      <td>0</td>\n",
       "      <td>0</td>\n",
       "      <td>1</td>\n",
       "    </tr>\n",
       "    <tr>\n",
       "      <th>9576</th>\n",
       "      <td>0</td>\n",
       "      <td>3</td>\n",
       "      <td>0.1600</td>\n",
       "      <td>351.58</td>\n",
       "      <td>10.819778</td>\n",
       "      <td>19.18</td>\n",
       "      <td>692</td>\n",
       "      <td>1800.000000</td>\n",
       "      <td>0</td>\n",
       "      <td>3.2</td>\n",
       "      <td>5</td>\n",
       "      <td>0</td>\n",
       "      <td>0</td>\n",
       "      <td>1</td>\n",
       "    </tr>\n",
       "    <tr>\n",
       "      <th>9577</th>\n",
       "      <td>0</td>\n",
       "      <td>0</td>\n",
       "      <td>0.1392</td>\n",
       "      <td>853.43</td>\n",
       "      <td>11.264464</td>\n",
       "      <td>16.28</td>\n",
       "      <td>732</td>\n",
       "      <td>4740.000000</td>\n",
       "      <td>37879</td>\n",
       "      <td>57.0</td>\n",
       "      <td>6</td>\n",
       "      <td>0</td>\n",
       "      <td>0</td>\n",
       "      <td>1</td>\n",
       "    </tr>\n",
       "  </tbody>\n",
       "</table>\n",
       "<p>9578 rows × 14 columns</p>\n",
       "</div>"
      ],
      "text/plain": [
       "      credit_policy  purpose  int.rate  installment  log.annual.inc    dti  \\\n",
       "0                 1        0    0.1189       829.10       11.350407  19.48   \n",
       "1                 1        1    0.1071       228.22       11.082143  14.29   \n",
       "2                 1        0    0.1357       366.86       10.373491  11.63   \n",
       "3                 1        0    0.1008       162.34       11.350407   8.10   \n",
       "4                 1        1    0.1426       102.92       11.299732  14.97   \n",
       "...             ...      ...       ...          ...             ...    ...   \n",
       "9573              0        2    0.1461       344.76       12.180755  10.39   \n",
       "9574              0        2    0.1253       257.70       11.141862   0.21   \n",
       "9575              0        0    0.1071        97.81       10.596635  13.09   \n",
       "9576              0        3    0.1600       351.58       10.819778  19.18   \n",
       "9577              0        0    0.1392       853.43       11.264464  16.28   \n",
       "\n",
       "      fico  days.with.cr.line  revol.bal  revol.util  inq.last.6mths  \\\n",
       "0      737        5639.958333      28854        52.1               0   \n",
       "1      707        2760.000000      33623        76.7               0   \n",
       "2      682        4710.000000       3511        25.6               1   \n",
       "3      712        2699.958333      33667        73.2               1   \n",
       "4      667        4066.000000       4740        39.5               0   \n",
       "...    ...                ...        ...         ...             ...   \n",
       "9573   672       10474.000000     215372        82.1               2   \n",
       "9574   722        4380.000000        184         1.1               5   \n",
       "9575   687        3450.041667      10036        82.9               8   \n",
       "9576   692        1800.000000          0         3.2               5   \n",
       "9577   732        4740.000000      37879        57.0               6   \n",
       "\n",
       "      delinq.2yrs  pub.rec  not.fully.paid  \n",
       "0               0        0               0  \n",
       "1               0        0               0  \n",
       "2               0        0               0  \n",
       "3               0        0               0  \n",
       "4               1        0               0  \n",
       "...           ...      ...             ...  \n",
       "9573            0        0               1  \n",
       "9574            0        0               1  \n",
       "9575            0        0               1  \n",
       "9576            0        0               1  \n",
       "9577            0        0               1  \n",
       "\n",
       "[9578 rows x 14 columns]"
      ]
     },
     "execution_count": 9,
     "metadata": {},
     "output_type": "execute_result"
    }
   ],
   "source": [
    "df_loan"
   ]
  },
  {
   "cell_type": "code",
   "execution_count": 10,
   "metadata": {},
   "outputs": [],
   "source": [
    "X = df_loan.drop(['credit_policy'],axis=1)\n",
    "y = df_loan['credit_policy']"
   ]
  },
  {
   "cell_type": "code",
   "execution_count": 11,
   "metadata": {},
   "outputs": [],
   "source": [
    "np.random.seed(12345)"
   ]
  },
  {
   "cell_type": "code",
   "execution_count": 12,
   "metadata": {},
   "outputs": [],
   "source": [
    "from sklearn.model_selection import train_test_split"
   ]
  },
  {
   "cell_type": "code",
   "execution_count": 13,
   "metadata": {},
   "outputs": [],
   "source": [
    "X_train, X_test, y_train,y_test = train_test_split(X,\n",
    "                                                   y,\n",
    "                                                   stratify = y,\n",
    "                                                   test_size=0.2,\n",
    "                                                   random_state=12345)"
   ]
  },
  {
   "cell_type": "code",
   "execution_count": 14,
   "metadata": {},
   "outputs": [
    {
     "data": {
      "text/plain": [
       "(7662, 13)"
      ]
     },
     "execution_count": 14,
     "metadata": {},
     "output_type": "execute_result"
    }
   ],
   "source": [
    "X_train.shape"
   ]
  },
  {
   "cell_type": "code",
   "execution_count": 15,
   "metadata": {},
   "outputs": [
    {
     "data": {
      "text/plain": [
       "(1916, 13)"
      ]
     },
     "execution_count": 15,
     "metadata": {},
     "output_type": "execute_result"
    }
   ],
   "source": [
    "X_test.shape"
   ]
  },
  {
   "cell_type": "code",
   "execution_count": 16,
   "metadata": {},
   "outputs": [],
   "source": [
    "from sklearn.preprocessing import StandardScaler"
   ]
  },
  {
   "cell_type": "code",
   "execution_count": 17,
   "metadata": {},
   "outputs": [],
   "source": [
    "scaler = StandardScaler()\n",
    "X_train_scaled = scaler.fit_transform(X_train)\n",
    "X_test_scaled = scaler.transform(X_test)"
   ]
  },
  {
   "cell_type": "code",
   "execution_count": 18,
   "metadata": {},
   "outputs": [],
   "source": [
    "import tensorflow as tf"
   ]
  },
  {
   "cell_type": "code",
   "execution_count": 19,
   "metadata": {},
   "outputs": [
    {
     "name": "stdout",
     "output_type": "stream",
     "text": [
      "2.8.0\n"
     ]
    }
   ],
   "source": [
    "print(tf.__version__)"
   ]
  },
  {
   "cell_type": "code",
   "execution_count": 20,
   "metadata": {},
   "outputs": [],
   "source": [
    "from tensorflow.keras.models import Sequential"
   ]
  },
  {
   "cell_type": "code",
   "execution_count": 21,
   "metadata": {},
   "outputs": [],
   "source": [
    "from tensorflow.keras.layers import Dense, Input"
   ]
  },
  {
   "cell_type": "code",
   "execution_count": 22,
   "metadata": {},
   "outputs": [],
   "source": [
    "model = Sequential()"
   ]
  },
  {
   "cell_type": "code",
   "execution_count": 23,
   "metadata": {},
   "outputs": [
    {
     "data": {
      "text/plain": [
       "13"
      ]
     },
     "execution_count": 23,
     "metadata": {},
     "output_type": "execute_result"
    }
   ],
   "source": [
    "X_train_scaled.shape[1]"
   ]
  },
  {
   "cell_type": "code",
   "execution_count": 24,
   "metadata": {},
   "outputs": [],
   "source": [
    "model.add(Input(shape = (X_train_scaled.shape[1],)))"
   ]
  },
  {
   "cell_type": "code",
   "execution_count": 25,
   "metadata": {},
   "outputs": [],
   "source": [
    "model.add(Dense(units=128,\n",
    "                activation='relu'\n",
    "         ))"
   ]
  },
  {
   "cell_type": "code",
   "execution_count": 26,
   "metadata": {},
   "outputs": [],
   "source": [
    "model.add(Dense(units=64, activation='relu'))\n",
    "model.add(Dense(units=32, activation='relu'))"
   ]
  },
  {
   "cell_type": "code",
   "execution_count": 27,
   "metadata": {},
   "outputs": [],
   "source": [
    "model.add(Dense(units=1, activation='sigmoid'))"
   ]
  },
  {
   "cell_type": "code",
   "execution_count": 28,
   "metadata": {},
   "outputs": [
    {
     "name": "stdout",
     "output_type": "stream",
     "text": [
      "Model: \"sequential\"\n",
      "_________________________________________________________________\n",
      " Layer (type)                Output Shape              Param #   \n",
      "=================================================================\n",
      " dense (Dense)               (None, 128)               1792      \n",
      "                                                                 \n",
      " dense_1 (Dense)             (None, 64)                8256      \n",
      "                                                                 \n",
      " dense_2 (Dense)             (None, 32)                2080      \n",
      "                                                                 \n",
      " dense_3 (Dense)             (None, 1)                 33        \n",
      "                                                                 \n",
      "=================================================================\n",
      "Total params: 12,161\n",
      "Trainable params: 12,161\n",
      "Non-trainable params: 0\n",
      "_________________________________________________________________\n"
     ]
    }
   ],
   "source": [
    "model.summary()"
   ]
  },
  {
   "cell_type": "code",
   "execution_count": 29,
   "metadata": {},
   "outputs": [],
   "source": [
    "model.compile(optimizer='adam',\n",
    "              loss= 'binary_crossentropy',\n",
    "              metrics=['accuracy'])"
   ]
  },
  {
   "cell_type": "code",
   "execution_count": 30,
   "metadata": {},
   "outputs": [
    {
     "name": "stdout",
     "output_type": "stream",
     "text": [
      "Epoch 1/100\n",
      "240/240 [==============================] - 1s 3ms/step - loss: 0.2876 - accuracy: 0.8905 - val_loss: 0.2364 - val_accuracy: 0.8972\n",
      "Epoch 2/100\n",
      "240/240 [==============================] - 1s 2ms/step - loss: 0.2105 - accuracy: 0.9152 - val_loss: 0.2066 - val_accuracy: 0.9181\n",
      "Epoch 3/100\n",
      "240/240 [==============================] - 1s 2ms/step - loss: 0.1822 - accuracy: 0.9281 - val_loss: 0.1859 - val_accuracy: 0.9254\n",
      "Epoch 4/100\n",
      "240/240 [==============================] - 1s 2ms/step - loss: 0.1657 - accuracy: 0.9353 - val_loss: 0.1744 - val_accuracy: 0.9295\n",
      "Epoch 5/100\n",
      "240/240 [==============================] - 1s 2ms/step - loss: 0.1415 - accuracy: 0.9457 - val_loss: 0.1527 - val_accuracy: 0.9374\n",
      "Epoch 6/100\n",
      "240/240 [==============================] - 1s 2ms/step - loss: 0.1284 - accuracy: 0.9528 - val_loss: 0.1430 - val_accuracy: 0.9462\n",
      "Epoch 7/100\n",
      "240/240 [==============================] - 0s 2ms/step - loss: 0.1149 - accuracy: 0.9582 - val_loss: 0.1735 - val_accuracy: 0.9290\n",
      "Epoch 8/100\n",
      "240/240 [==============================] - 0s 2ms/step - loss: 0.1044 - accuracy: 0.9622 - val_loss: 0.1300 - val_accuracy: 0.9556\n",
      "Epoch 9/100\n",
      "240/240 [==============================] - 0s 2ms/step - loss: 0.0958 - accuracy: 0.9665 - val_loss: 0.1415 - val_accuracy: 0.9494\n",
      "Epoch 10/100\n",
      "240/240 [==============================] - 1s 2ms/step - loss: 0.0901 - accuracy: 0.9695 - val_loss: 0.1260 - val_accuracy: 0.9515\n",
      "Epoch 11/100\n",
      "240/240 [==============================] - 1s 2ms/step - loss: 0.0847 - accuracy: 0.9697 - val_loss: 0.1336 - val_accuracy: 0.9551\n",
      "Epoch 12/100\n",
      "240/240 [==============================] - 1s 3ms/step - loss: 0.0782 - accuracy: 0.9727 - val_loss: 0.1169 - val_accuracy: 0.9567\n",
      "Epoch 13/100\n",
      "240/240 [==============================] - 1s 2ms/step - loss: 0.0721 - accuracy: 0.9744 - val_loss: 0.1323 - val_accuracy: 0.9499\n",
      "Epoch 14/100\n",
      "240/240 [==============================] - 1s 2ms/step - loss: 0.0660 - accuracy: 0.9768 - val_loss: 0.1182 - val_accuracy: 0.9572\n",
      "Epoch 15/100\n",
      "240/240 [==============================] - 0s 2ms/step - loss: 0.0643 - accuracy: 0.9772 - val_loss: 0.1141 - val_accuracy: 0.9582\n",
      "Epoch 16/100\n",
      "240/240 [==============================] - 0s 2ms/step - loss: 0.0587 - accuracy: 0.9792 - val_loss: 0.1104 - val_accuracy: 0.9635\n",
      "Epoch 17/100\n",
      "240/240 [==============================] - 1s 2ms/step - loss: 0.0549 - accuracy: 0.9808 - val_loss: 0.1509 - val_accuracy: 0.9551\n",
      "Epoch 18/100\n",
      "240/240 [==============================] - 1s 3ms/step - loss: 0.0551 - accuracy: 0.9796 - val_loss: 0.1244 - val_accuracy: 0.9582\n",
      "Epoch 19/100\n",
      "240/240 [==============================] - 1s 2ms/step - loss: 0.0497 - accuracy: 0.9838 - val_loss: 0.1443 - val_accuracy: 0.9551\n",
      "Epoch 20/100\n",
      "240/240 [==============================] - 0s 2ms/step - loss: 0.0503 - accuracy: 0.9832 - val_loss: 0.1289 - val_accuracy: 0.9619\n",
      "Epoch 21/100\n",
      "240/240 [==============================] - 1s 2ms/step - loss: 0.0459 - accuracy: 0.9843 - val_loss: 0.1220 - val_accuracy: 0.9619\n",
      "Epoch 22/100\n",
      "240/240 [==============================] - 1s 2ms/step - loss: 0.0409 - accuracy: 0.9866 - val_loss: 0.1307 - val_accuracy: 0.9588\n",
      "Epoch 23/100\n",
      "240/240 [==============================] - 0s 2ms/step - loss: 0.0410 - accuracy: 0.9847 - val_loss: 0.1289 - val_accuracy: 0.9588\n",
      "Epoch 24/100\n",
      "240/240 [==============================] - 1s 2ms/step - loss: 0.0404 - accuracy: 0.9860 - val_loss: 0.1462 - val_accuracy: 0.9562\n",
      "Epoch 25/100\n",
      "240/240 [==============================] - 0s 2ms/step - loss: 0.0360 - accuracy: 0.9862 - val_loss: 0.1538 - val_accuracy: 0.9551\n",
      "Epoch 26/100\n",
      "240/240 [==============================] - 0s 2ms/step - loss: 0.0367 - accuracy: 0.9851 - val_loss: 0.1542 - val_accuracy: 0.9556\n",
      "Epoch 27/100\n",
      "240/240 [==============================] - 0s 2ms/step - loss: 0.0308 - accuracy: 0.9892 - val_loss: 0.1388 - val_accuracy: 0.9593\n",
      "Epoch 28/100\n",
      "240/240 [==============================] - 1s 2ms/step - loss: 0.0276 - accuracy: 0.9903 - val_loss: 0.1412 - val_accuracy: 0.9614\n",
      "Epoch 29/100\n",
      "240/240 [==============================] - 1s 2ms/step - loss: 0.0242 - accuracy: 0.9915 - val_loss: 0.1577 - val_accuracy: 0.9509\n",
      "Epoch 30/100\n",
      "240/240 [==============================] - 1s 2ms/step - loss: 0.0253 - accuracy: 0.9913 - val_loss: 0.1599 - val_accuracy: 0.9577\n",
      "Epoch 31/100\n",
      "240/240 [==============================] - 1s 2ms/step - loss: 0.0359 - accuracy: 0.9853 - val_loss: 0.1406 - val_accuracy: 0.9567\n",
      "Epoch 32/100\n",
      "240/240 [==============================] - 0s 2ms/step - loss: 0.0276 - accuracy: 0.9918 - val_loss: 0.1690 - val_accuracy: 0.9546\n",
      "Epoch 33/100\n",
      "240/240 [==============================] - 1s 2ms/step - loss: 0.0302 - accuracy: 0.9885 - val_loss: 0.1406 - val_accuracy: 0.9624\n",
      "Epoch 34/100\n",
      "240/240 [==============================] - 1s 2ms/step - loss: 0.0229 - accuracy: 0.9924 - val_loss: 0.1535 - val_accuracy: 0.9582\n",
      "Epoch 35/100\n",
      "240/240 [==============================] - 1s 2ms/step - loss: 0.0208 - accuracy: 0.9928 - val_loss: 0.1646 - val_accuracy: 0.9562\n",
      "Epoch 36/100\n",
      "240/240 [==============================] - 1s 2ms/step - loss: 0.0178 - accuracy: 0.9937 - val_loss: 0.1494 - val_accuracy: 0.9624\n",
      "Epoch 37/100\n",
      "240/240 [==============================] - 0s 2ms/step - loss: 0.0213 - accuracy: 0.9931 - val_loss: 0.1718 - val_accuracy: 0.9572\n",
      "Epoch 38/100\n",
      "240/240 [==============================] - 1s 2ms/step - loss: 0.0216 - accuracy: 0.9927 - val_loss: 0.1516 - val_accuracy: 0.9640\n",
      "Epoch 39/100\n",
      "240/240 [==============================] - 1s 2ms/step - loss: 0.0242 - accuracy: 0.9913 - val_loss: 0.1819 - val_accuracy: 0.9520\n",
      "Epoch 40/100\n",
      "240/240 [==============================] - 1s 2ms/step - loss: 0.0267 - accuracy: 0.9913 - val_loss: 0.1886 - val_accuracy: 0.9629\n",
      "Epoch 41/100\n",
      "240/240 [==============================] - 0s 2ms/step - loss: 0.0174 - accuracy: 0.9940 - val_loss: 0.1826 - val_accuracy: 0.9551\n",
      "Epoch 42/100\n",
      "240/240 [==============================] - 0s 2ms/step - loss: 0.0170 - accuracy: 0.9937 - val_loss: 0.1692 - val_accuracy: 0.9624\n",
      "Epoch 43/100\n",
      "240/240 [==============================] - 0s 2ms/step - loss: 0.0238 - accuracy: 0.9915 - val_loss: 0.1713 - val_accuracy: 0.9567\n",
      "Epoch 44/100\n",
      "240/240 [==============================] - 0s 2ms/step - loss: 0.0215 - accuracy: 0.9911 - val_loss: 0.2059 - val_accuracy: 0.9588\n",
      "Epoch 45/100\n",
      "240/240 [==============================] - 0s 2ms/step - loss: 0.0177 - accuracy: 0.9939 - val_loss: 0.1642 - val_accuracy: 0.9593\n",
      "Epoch 46/100\n",
      "240/240 [==============================] - 0s 2ms/step - loss: 0.0201 - accuracy: 0.9932 - val_loss: 0.1870 - val_accuracy: 0.9619\n",
      "Epoch 47/100\n",
      "240/240 [==============================] - 0s 2ms/step - loss: 0.0121 - accuracy: 0.9963 - val_loss: 0.1757 - val_accuracy: 0.9614\n",
      "Epoch 48/100\n",
      "240/240 [==============================] - 0s 2ms/step - loss: 0.0157 - accuracy: 0.9948 - val_loss: 0.1827 - val_accuracy: 0.9541\n",
      "Epoch 49/100\n",
      "240/240 [==============================] - 0s 2ms/step - loss: 0.0190 - accuracy: 0.9928 - val_loss: 0.1890 - val_accuracy: 0.9535\n",
      "Epoch 50/100\n",
      "240/240 [==============================] - 0s 2ms/step - loss: 0.0156 - accuracy: 0.9945 - val_loss: 0.1805 - val_accuracy: 0.9635\n",
      "Epoch 51/100\n",
      "240/240 [==============================] - 0s 2ms/step - loss: 0.0117 - accuracy: 0.9967 - val_loss: 0.1962 - val_accuracy: 0.9541\n",
      "Epoch 52/100\n",
      "240/240 [==============================] - 0s 2ms/step - loss: 0.0162 - accuracy: 0.9940 - val_loss: 0.1773 - val_accuracy: 0.9645\n",
      "Epoch 53/100\n",
      "240/240 [==============================] - 0s 2ms/step - loss: 0.0098 - accuracy: 0.9973 - val_loss: 0.2012 - val_accuracy: 0.9598\n",
      "Epoch 54/100\n",
      "240/240 [==============================] - 0s 2ms/step - loss: 0.0109 - accuracy: 0.9966 - val_loss: 0.2054 - val_accuracy: 0.9614\n",
      "Epoch 55/100\n",
      "240/240 [==============================] - 0s 2ms/step - loss: 0.0133 - accuracy: 0.9961 - val_loss: 0.1914 - val_accuracy: 0.9562\n",
      "Epoch 56/100\n",
      "240/240 [==============================] - 0s 2ms/step - loss: 0.0107 - accuracy: 0.9966 - val_loss: 0.2162 - val_accuracy: 0.9629\n",
      "Epoch 57/100\n",
      "240/240 [==============================] - 0s 2ms/step - loss: 0.0250 - accuracy: 0.9932 - val_loss: 0.1865 - val_accuracy: 0.9525\n",
      "Epoch 58/100\n",
      "240/240 [==============================] - 0s 2ms/step - loss: 0.0105 - accuracy: 0.9969 - val_loss: 0.2088 - val_accuracy: 0.9614\n",
      "Epoch 59/100\n",
      "240/240 [==============================] - 0s 2ms/step - loss: 0.0185 - accuracy: 0.9939 - val_loss: 0.2407 - val_accuracy: 0.9530\n",
      "Epoch 60/100\n",
      "240/240 [==============================] - 0s 2ms/step - loss: 0.0216 - accuracy: 0.9939 - val_loss: 0.2000 - val_accuracy: 0.9567\n",
      "Epoch 61/100\n",
      "240/240 [==============================] - 0s 2ms/step - loss: 0.0103 - accuracy: 0.9960 - val_loss: 0.2127 - val_accuracy: 0.9546\n",
      "Epoch 62/100\n",
      "240/240 [==============================] - 0s 2ms/step - loss: 0.0070 - accuracy: 0.9983 - val_loss: 0.1993 - val_accuracy: 0.9645\n",
      "Epoch 63/100\n",
      "240/240 [==============================] - 0s 2ms/step - loss: 0.0033 - accuracy: 0.9992 - val_loss: 0.2049 - val_accuracy: 0.9609\n",
      "Epoch 64/100\n",
      "240/240 [==============================] - 0s 2ms/step - loss: 0.0024 - accuracy: 0.9993 - val_loss: 0.2236 - val_accuracy: 0.9624\n",
      "Epoch 65/100\n",
      "240/240 [==============================] - 0s 2ms/step - loss: 0.0054 - accuracy: 0.9987 - val_loss: 0.2984 - val_accuracy: 0.9452\n",
      "Epoch 66/100\n",
      "240/240 [==============================] - 0s 2ms/step - loss: 0.0313 - accuracy: 0.9902 - val_loss: 0.1900 - val_accuracy: 0.9551\n",
      "Epoch 67/100\n",
      "240/240 [==============================] - 0s 2ms/step - loss: 0.0257 - accuracy: 0.9914 - val_loss: 0.1947 - val_accuracy: 0.9489\n",
      "Epoch 68/100\n",
      "240/240 [==============================] - 0s 2ms/step - loss: 0.0076 - accuracy: 0.9979 - val_loss: 0.2064 - val_accuracy: 0.9535\n",
      "Epoch 69/100\n",
      "240/240 [==============================] - 0s 2ms/step - loss: 0.0133 - accuracy: 0.9952 - val_loss: 0.1948 - val_accuracy: 0.9635\n",
      "Epoch 70/100\n",
      "240/240 [==============================] - 0s 2ms/step - loss: 0.0068 - accuracy: 0.9979 - val_loss: 0.2157 - val_accuracy: 0.9640\n",
      "Epoch 71/100\n",
      "240/240 [==============================] - 0s 2ms/step - loss: 0.0092 - accuracy: 0.9975 - val_loss: 0.1978 - val_accuracy: 0.9635\n",
      "Epoch 72/100\n",
      "240/240 [==============================] - 0s 2ms/step - loss: 0.0032 - accuracy: 0.9993 - val_loss: 0.2031 - val_accuracy: 0.9624\n",
      "Epoch 73/100\n",
      "240/240 [==============================] - 0s 2ms/step - loss: 0.0167 - accuracy: 0.9944 - val_loss: 0.2261 - val_accuracy: 0.9629\n",
      "Epoch 74/100\n",
      "240/240 [==============================] - 0s 2ms/step - loss: 0.0135 - accuracy: 0.9956 - val_loss: 0.2675 - val_accuracy: 0.9577\n",
      "Epoch 75/100\n",
      "240/240 [==============================] - 0s 2ms/step - loss: 0.0144 - accuracy: 0.9967 - val_loss: 0.1924 - val_accuracy: 0.9629\n",
      "Epoch 76/100\n",
      "240/240 [==============================] - 0s 2ms/step - loss: 0.0027 - accuracy: 0.9992 - val_loss: 0.2004 - val_accuracy: 0.9629\n",
      "Epoch 77/100\n",
      "240/240 [==============================] - 0s 2ms/step - loss: 0.0026 - accuracy: 0.9996 - val_loss: 0.2049 - val_accuracy: 0.9635\n",
      "Epoch 78/100\n",
      "240/240 [==============================] - 0s 2ms/step - loss: 0.0022 - accuracy: 0.9993 - val_loss: 0.2255 - val_accuracy: 0.9661\n",
      "Epoch 79/100\n",
      "240/240 [==============================] - 0s 2ms/step - loss: 0.0263 - accuracy: 0.9919 - val_loss: 0.2203 - val_accuracy: 0.9577\n",
      "Epoch 80/100\n",
      "240/240 [==============================] - 0s 2ms/step - loss: 0.0187 - accuracy: 0.9935 - val_loss: 0.2456 - val_accuracy: 0.9567\n",
      "Epoch 81/100\n",
      "240/240 [==============================] - 0s 2ms/step - loss: 0.0177 - accuracy: 0.9948 - val_loss: 0.2268 - val_accuracy: 0.9572\n",
      "Epoch 82/100\n",
      "240/240 [==============================] - 0s 2ms/step - loss: 0.0084 - accuracy: 0.9975 - val_loss: 0.2006 - val_accuracy: 0.9603\n",
      "Epoch 83/100\n",
      "240/240 [==============================] - 0s 2ms/step - loss: 0.0034 - accuracy: 0.9992 - val_loss: 0.2158 - val_accuracy: 0.9650\n",
      "Epoch 84/100\n",
      "240/240 [==============================] - 0s 2ms/step - loss: 0.0016 - accuracy: 0.9996 - val_loss: 0.1985 - val_accuracy: 0.9640\n",
      "Epoch 85/100\n",
      "240/240 [==============================] - 0s 2ms/step - loss: 0.0022 - accuracy: 0.9990 - val_loss: 0.2192 - val_accuracy: 0.9656\n",
      "Epoch 86/100\n",
      "240/240 [==============================] - 0s 2ms/step - loss: 0.0047 - accuracy: 0.9986 - val_loss: 0.2524 - val_accuracy: 0.9546\n",
      "Epoch 87/100\n",
      "240/240 [==============================] - 0s 2ms/step - loss: 0.0263 - accuracy: 0.9923 - val_loss: 0.2057 - val_accuracy: 0.9609\n",
      "Epoch 88/100\n",
      "240/240 [==============================] - 0s 2ms/step - loss: 0.0121 - accuracy: 0.9970 - val_loss: 0.2126 - val_accuracy: 0.9619\n",
      "Epoch 89/100\n",
      "240/240 [==============================] - 0s 2ms/step - loss: 0.0065 - accuracy: 0.9975 - val_loss: 0.2233 - val_accuracy: 0.9588\n",
      "Epoch 90/100\n",
      "240/240 [==============================] - 0s 2ms/step - loss: 0.0095 - accuracy: 0.9969 - val_loss: 0.2044 - val_accuracy: 0.9614\n",
      "Epoch 91/100\n",
      "240/240 [==============================] - 0s 2ms/step - loss: 0.0063 - accuracy: 0.9982 - val_loss: 0.1967 - val_accuracy: 0.9640\n",
      "Epoch 92/100\n",
      "240/240 [==============================] - 0s 2ms/step - loss: 0.0159 - accuracy: 0.9957 - val_loss: 0.2166 - val_accuracy: 0.9582\n",
      "Epoch 93/100\n",
      "240/240 [==============================] - 0s 2ms/step - loss: 0.0066 - accuracy: 0.9979 - val_loss: 0.2407 - val_accuracy: 0.9635\n",
      "Epoch 94/100\n",
      "240/240 [==============================] - 0s 2ms/step - loss: 0.0035 - accuracy: 0.9988 - val_loss: 0.2215 - val_accuracy: 0.9609\n",
      "Epoch 95/100\n",
      "240/240 [==============================] - 0s 2ms/step - loss: 0.0020 - accuracy: 0.9996 - val_loss: 0.2385 - val_accuracy: 0.9650\n",
      "Epoch 96/100\n",
      "240/240 [==============================] - 0s 2ms/step - loss: 0.0013 - accuracy: 0.9996 - val_loss: 0.2385 - val_accuracy: 0.9624\n",
      "Epoch 97/100\n",
      "240/240 [==============================] - 0s 2ms/step - loss: 0.0029 - accuracy: 0.9990 - val_loss: 0.2512 - val_accuracy: 0.9619\n",
      "Epoch 98/100\n",
      "240/240 [==============================] - 0s 2ms/step - loss: 0.0024 - accuracy: 0.9995 - val_loss: 0.2456 - val_accuracy: 0.9635\n",
      "Epoch 99/100\n",
      "240/240 [==============================] - 1s 2ms/step - loss: 0.0091 - accuracy: 0.9977 - val_loss: 0.3390 - val_accuracy: 0.9541\n",
      "Epoch 100/100\n",
      "240/240 [==============================] - 0s 2ms/step - loss: 0.0494 - accuracy: 0.9846 - val_loss: 0.1919 - val_accuracy: 0.9598\n"
     ]
    }
   ],
   "source": [
    "result = model.fit(X_train_scaled, \n",
    "                   y_train,\n",
    "                   validation_data = (X_test_scaled, y_test),\n",
    "                   epochs=100)"
   ]
  },
  {
   "cell_type": "code",
   "execution_count": 31,
   "metadata": {},
   "outputs": [],
   "source": [
    "y_train_pred = model.predict(X_train_scaled)\n",
    "y_test_pred = model.predict(X_test_scaled)"
   ]
  },
  {
   "cell_type": "code",
   "execution_count": 32,
   "metadata": {},
   "outputs": [
    {
     "data": {
      "text/plain": [
       "array([ True])"
      ]
     },
     "execution_count": 32,
     "metadata": {},
     "output_type": "execute_result"
    }
   ],
   "source": [
    "y_train_pred[0] >=0.5"
   ]
  },
  {
   "cell_type": "code",
   "execution_count": 33,
   "metadata": {},
   "outputs": [],
   "source": [
    "from sklearn.metrics import confusion_matrix, accuracy_score"
   ]
  },
  {
   "cell_type": "code",
   "execution_count": 34,
   "metadata": {},
   "outputs": [
    {
     "data": {
      "text/plain": [
       "array([[1481,   13],\n",
       "       [   6, 6162]])"
      ]
     },
     "execution_count": 34,
     "metadata": {},
     "output_type": "execute_result"
    }
   ],
   "source": [
    "confusion_matrix(y_pred=y_train_pred >= 0.5, \n",
    "                 y_true = y_train)"
   ]
  },
  {
   "cell_type": "code",
   "execution_count": 35,
   "metadata": {},
   "outputs": [
    {
     "data": {
      "text/plain": [
       "0.9975202297050378"
      ]
     },
     "execution_count": 35,
     "metadata": {},
     "output_type": "execute_result"
    }
   ],
   "source": [
    "accuracy_score(y_pred=y_train_pred >= 0.5, \n",
    "               y_true = y_train)"
   ]
  },
  {
   "cell_type": "code",
   "execution_count": 36,
   "metadata": {},
   "outputs": [
    {
     "data": {
      "text/plain": [
       "array([[ 321,   53],\n",
       "       [  24, 1518]])"
      ]
     },
     "execution_count": 36,
     "metadata": {},
     "output_type": "execute_result"
    }
   ],
   "source": [
    "confusion_matrix(y_pred=y_test_pred >= 0.5, \n",
    "                 y_true = y_test)"
   ]
  },
  {
   "cell_type": "code",
   "execution_count": 37,
   "metadata": {},
   "outputs": [
    {
     "data": {
      "text/plain": [
       "0.9598121085594989"
      ]
     },
     "execution_count": 37,
     "metadata": {},
     "output_type": "execute_result"
    }
   ],
   "source": [
    "accuracy_score(y_pred=y_test_pred >= 0.5, \n",
    "               y_true = y_test)"
   ]
  },
  {
   "cell_type": "code",
   "execution_count": 38,
   "metadata": {},
   "outputs": [],
   "source": [
    "history = pd.DataFrame(result.history)"
   ]
  },
  {
   "cell_type": "code",
   "execution_count": 39,
   "metadata": {},
   "outputs": [
    {
     "data": {
      "text/html": [
       "<div>\n",
       "<style scoped>\n",
       "    .dataframe tbody tr th:only-of-type {\n",
       "        vertical-align: middle;\n",
       "    }\n",
       "\n",
       "    .dataframe tbody tr th {\n",
       "        vertical-align: top;\n",
       "    }\n",
       "\n",
       "    .dataframe thead th {\n",
       "        text-align: right;\n",
       "    }\n",
       "</style>\n",
       "<table border=\"1\" class=\"dataframe\">\n",
       "  <thead>\n",
       "    <tr style=\"text-align: right;\">\n",
       "      <th></th>\n",
       "      <th>loss</th>\n",
       "      <th>accuracy</th>\n",
       "      <th>val_loss</th>\n",
       "      <th>val_accuracy</th>\n",
       "    </tr>\n",
       "  </thead>\n",
       "  <tbody>\n",
       "    <tr>\n",
       "      <th>0</th>\n",
       "      <td>0.287570</td>\n",
       "      <td>0.890499</td>\n",
       "      <td>0.236369</td>\n",
       "      <td>0.897182</td>\n",
       "    </tr>\n",
       "    <tr>\n",
       "      <th>1</th>\n",
       "      <td>0.210523</td>\n",
       "      <td>0.915166</td>\n",
       "      <td>0.206600</td>\n",
       "      <td>0.918058</td>\n",
       "    </tr>\n",
       "    <tr>\n",
       "      <th>2</th>\n",
       "      <td>0.182182</td>\n",
       "      <td>0.928087</td>\n",
       "      <td>0.185869</td>\n",
       "      <td>0.925365</td>\n",
       "    </tr>\n",
       "    <tr>\n",
       "      <th>3</th>\n",
       "      <td>0.165670</td>\n",
       "      <td>0.935265</td>\n",
       "      <td>0.174412</td>\n",
       "      <td>0.929541</td>\n",
       "    </tr>\n",
       "    <tr>\n",
       "      <th>4</th>\n",
       "      <td>0.141542</td>\n",
       "      <td>0.945706</td>\n",
       "      <td>0.152695</td>\n",
       "      <td>0.937370</td>\n",
       "    </tr>\n",
       "  </tbody>\n",
       "</table>\n",
       "</div>"
      ],
      "text/plain": [
       "       loss  accuracy  val_loss  val_accuracy\n",
       "0  0.287570  0.890499  0.236369      0.897182\n",
       "1  0.210523  0.915166  0.206600      0.918058\n",
       "2  0.182182  0.928087  0.185869      0.925365\n",
       "3  0.165670  0.935265  0.174412      0.929541\n",
       "4  0.141542  0.945706  0.152695      0.937370"
      ]
     },
     "execution_count": 39,
     "metadata": {},
     "output_type": "execute_result"
    }
   ],
   "source": [
    "history.head()"
   ]
  },
  {
   "cell_type": "code",
   "execution_count": 40,
   "metadata": {},
   "outputs": [],
   "source": [
    "import matplotlib.pyplot as plt"
   ]
  },
  {
   "cell_type": "code",
   "execution_count": 41,
   "metadata": {},
   "outputs": [
    {
     "data": {
      "image/png": "[encoded data removed]",
      "text/plain": [
       "<Figure size 1800x432 with 1 Axes>"
      ]
     },
     "metadata": {
      "needs_background": "light"
     },
     "output_type": "display_data"
    }
   ],
   "source": [
    "plt.figure(figsize = (25,6))\n",
    "plt.plot(history.val_loss, label='Test Set Loss')\n",
    "plt.plot(history.loss, label='Training Set Loss')\n",
    "plt.title('Epochs vs Loss')\n",
    "plt.xlabel('Epochs')\n",
    "plt.ylabel('Loss')\n",
    "plt.legend()\n",
    "plt.show()"
   ]
  },
  {
   "cell_type": "code",
   "execution_count": null,
   "metadata": {},
   "outputs": [],
   "source": [
    "plt.figure(figsize = (15,6))\n",
    "plt.plot(history.val_accuracy, label='Test Set Accuracy')\n",
    "plt.plot(history.accuracy, label='Training Set Accuracy')\n",
    "plt.title('Epochs vs Accuracy')\n",
    "plt.xlabel('Epochs')\n",
    "plt.ylabel('Accuracy')\n",
    "plt.legend()\n",
    "plt.show()"
   ]
  },
  {
   "cell_type": "code",
   "execution_count": null,
   "metadata": {},
   "outputs": [],
   "source": []
  }
 ],
 "metadata": {
  "kernelspec": {
   "display_name": "Python 3",
   "language": "python",
   "name": "python3"
  },
  "language_info": {
   "codemirror_mode": {
    "name": "ipython",
    "version": 3
   },
   "file_extension": ".py",
   "mimetype": "text/x-python",
   "name": "python",
   "nbconvert_exporter": "python",
   "pygments_lexer": "ipython3",
   "version": "3.7.6"
  }
 },
 "nbformat": 4,
 "nbformat_minor": 4
}
